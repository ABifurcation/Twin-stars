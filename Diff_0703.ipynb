{
 "cells": [
  {
   "cell_type": "code",
   "execution_count": 1,
   "metadata": {},
   "outputs": [],
   "source": [
    "from scipy.integrate import solve_bvp, odeint\n",
    "import numpy as np\n",
    "import matplotlib.pyplot as plt\n",
    "from PIL import Image\n",
    "import os\n",
    "import glob\n",
    "from scipy import interpolate\n",
    "from scipy import integrate"
   ]
  },
  {
   "cell_type": "code",
   "execution_count": 122,
   "metadata": {},
   "outputs": [
    {
     "data": {
      "text/plain": [
       "array([0.00000000e+00, 6.33159497e+14, 6.85833222e+14, ...,\n",
       "       2.63371715e+14, 2.62705806e+14, 2.62041577e+14])"
      ]
     },
     "execution_count": 122,
     "metadata": {},
     "output_type": "execute_result"
    },
    {
     "data": {
      "image/png": "[encoded data removed]",
      "text/plain": [
       "<Figure size 432x288 with 1 Axes>"
      ]
     },
     "metadata": {
      "needs_background": "light"
     },
     "output_type": "display_data"
    }
   ],
   "source": [
    "df = np.genfromtxt('/Users/laote/sdsu/Research/GRR/mass_energy_density_profiles.dat'\\\n",
    "                   ,skip_header=7,skip_footer=1,names='rd,mr,ed,nd')\n",
    "bar_rho = (3*df['mr']*1.988e30/(4*np.pi*df['rd']**3))\n",
    "plt.plot(df['mr'],df['rd'])\n",
    "\n",
    "df = np.genfromtxt('/Users/laote/sdsu/Research/GRR/mass_energy_density_profiles.dat'\\\n",
    "               ,skip_header=7,skip_footer=1,names='rd,mr,ed,nd')\n",
    "M = df['mr']*1.988e33 # to gram\n",
    "R = df['rd']*100 # to cm\n",
    "rho = (3*M/(4*np.pi*R**3))\n",
    "rho"
   ]
  },
  {
   "cell_type": "code",
   "execution_count": 2,
   "metadata": {},
   "outputs": [],
   "source": [
    "def freq_omega(Omega): # eigen frequency\n",
    "    \n",
    "    return 1\n",
    "\n",
    "def alpha_m(m,M,R,period=0): # period is in unit second\n",
    "    if period == 0:\n",
    "        return 1\n",
    "    else:\n",
    "        # (piGrho) 3/4* gravitational constant in solar mass^-1*km^3*sec^-2 = 9.95e10\n",
    "        unit = (9.95e10*(M/R**3))**(-0.5) # in solar mass and km\n",
    "        template = np.genfromtxt(\"./Constant/alpha%s.txt\"%m,names=('x,y'))\n",
    "        f = interpolate.interp1d(template['x'], template['y'])\n",
    "\n",
    "        freq = (2*np.pi/period)*(unit)\n",
    "        if freq > 0.65:\n",
    "            freq = 0.65\n",
    "\n",
    "        am = f(freq)\n",
    "        return round(np.float(am),5)\n",
    "#         return 1\n",
    "\n",
    "def gamma_m(m,M,R,period=0): # period is in unit second\n",
    "    if period == 0:\n",
    "        return 1\n",
    "    else:\n",
    "        unit = (9.95e10*(M/R**3))**(-0.5) # in solar mass and km\n",
    "        template = np.genfromtxt(\"./Constant/gamma%s.txt\"%m,names=('x,y'))\n",
    "        f = interpolate.interp1d(template['x'], template['y'])\n",
    "\n",
    "        freq = (2*np.pi/period)*(unit)\n",
    "        if freq > 0.65:\n",
    "            freq = 0.65\n",
    "\n",
    "        gm = f(freq)\n",
    "\n",
    "        return round(np.float(gm),5)\n",
    "    \n",
    "def epslion_m(m):\n",
    "    return 1\n",
    "\n",
    "\n",
    "def omega_m(m,M,R): # mass and radius (equation 16.70)\n",
    "    col1 = 2*m*(m - 1)/(2*m + 1)\n",
    "    col2 = 6.67e-20*M*2e30/R**3\n",
    "    om = np.sqrt(col1 * col2)\n",
    "    return om"
   ]
  },
  {
   "cell_type": "code",
   "execution_count": 3,
   "metadata": {},
   "outputs": [
    {
     "data": {
      "text/plain": [
       "(0.1517625150807423, 28800000000000.0, 194444.44444444447)"
      ]
     },
     "execution_count": 3,
     "metadata": {},
     "output_type": "execute_result"
    }
   ],
   "source": [
    "def doublefactorial(n): \n",
    "    if (n == 0 or n == 1): \n",
    "        return 1; \n",
    "    return n * doublefactorial(n - 2);\n",
    "\n",
    "\n",
    "def tau_GR_m(m,M,R): # m >= 0, mass, radius\n",
    "    col1 = ( (m-1) * (doublefactorial(2*m+1))**2 ) / ( (m+1) * (m+2) )\n",
    "    col2 = ( (2*m + 1) / (2*m*(m-1)) )**m\n",
    "    col3 = 2/3 * (R/(M*1.48))**(m+1) * R/3e5\n",
    "    tGRm = col1 * col2 * col3\n",
    "    return tGRm\n",
    "\n",
    "def tau_nu_m(m,R,nu): # radius (km), shear viscosity timescale (equaiton 16.72)\n",
    "    tnum = (R*1e5)**2 / ((2*m+1)*(m-1)) / nu\n",
    "    return tnum\n",
    "\n",
    "def tau_zeta_m(m,M,R,zeta): # mass(sun mass) radius (km)\n",
    "    tzetam = (0.5*(3/5)**4*(m**3/(2*m+3))*zeta/R**2)**(-1)\n",
    "    return tzetam\n",
    "\n",
    "tau_GR_m(2,1.4,12),tau_nu_m(2,12,0.01),tau_zeta_m(2,1.4,12,0.01)"
   ]
  },
  {
   "cell_type": "markdown",
   "metadata": {},
   "source": [
    "psi''(r) + 2/r*psi'(r) + [a-b/r**2]*psi(r) + c*(r**3) = 0\n",
    "\n",
    "psi'(r) = omega(t)\n",
    "\n",
    "omega'(t) = -2/r*omega(t) - [a-b/r**2]*psi(r) - c*(r**3)"
   ]
  },
  {
   "cell_type": "code",
   "execution_count": 4,
   "metadata": {},
   "outputs": [],
   "source": [
    "def ode_RK4(f, t0, tf, y0=0, n=100):\n",
    "    t = np.linspace(t0,tf,n)\n",
    "    y = list([y0])\n",
    "    for i in range(n-1):\n",
    "        h = t[i+1]-t[i]\n",
    "        k1 = h*f(t[i],y[-1])\n",
    "        k2 = h*f(t[i]+h/2,y[-1]+k1/2)\n",
    "        k3 = h*f(t[i]+h/2,y[-1]+k2/2)\n",
    "        k4 = h*f(t[i]+h,y[-1]+k3)\n",
    "        y.append(y[-1]+(k1+2*k2+2*k3+k4)/6)\n",
    "    y = np.array(y)\n",
    "    \n",
    "    return y\n",
    "\n",
    "def ode_shooting(F,t0,tf,y0,yf,n=100,tol=10**(-8),kmax=10):\n",
    "    \n",
    "    yp0 = float(yf-y0)/(tf-t0)\n",
    "    Y0 = np.array((y0,yp0))\n",
    "    Y = ode_RK4(F,t0,tf,Y0,n)\n",
    "    err = Y[-1][0] - yf\n",
    "    Y0[1] = yp0 - 0.1*np.sign(err)\n",
    "    for k in range(kmax-1):\n",
    "        Y = ode_RK4(F,t0,tf,Y0,n)\n",
    "        err1 = Y[-1][0] - yf\n",
    "        ddy = Y0[1] - yp0\n",
    "        if abs(err1)<tol or abs(ddy)<tol:\n",
    "            y = list()\n",
    "            for x in Y:\n",
    "                y.append(x[0])\n",
    "            return np.array(y), Y0[1], err\n",
    "        deddy = (err1-err)/ddy\n",
    "        yp0 = Y0[1]\n",
    "        err = err1\n",
    "        Y0[1] = Y0[1] - err/deddy\n",
    "    y = list()\n",
    "    for x in Y:\n",
    "        y.append(x[0])\n",
    "    return np.array(y), Y0[1], err"
   ]
  },
  {
   "cell_type": "code",
   "execution_count": 5,
   "metadata": {},
   "outputs": [],
   "source": [
    "def F(t,Y):\n",
    "    const = 3.479e-12 #cm^-2\n",
    "    l = 2\n",
    "    R = 13*1e5 #cm\n",
    "    a = const - (l+1)*(l+2)/t**2 #cm^-2\n",
    "    b = 2/t #cm^-1\n",
    "    c = -2*const*l/(2*l+1)*np.sqrt(l/(l+1))*(t/R)**(l+1)\n",
    "\n",
    "    return np.array([Y[1],c-b*Y[1]-a*Y[0]])\n",
    "\n",
    "def testfun(x):\n",
    "    y = (2 *np.exp(18 - 3*x) *(-1 + np.exp(3 *x)))/(-1 + np.exp(18))\n",
    "    return y"
   ]
  },
  {
   "cell_type": "code",
   "execution_count": 6,
   "metadata": {},
   "outputs": [
    {
     "data": {
      "image/png": "[encoded data removed]",
      "text/plain": [
       "<Figure size 432x288 with 1 Axes>"
      ]
     },
     "metadata": {
      "needs_background": "light"
     },
     "output_type": "display_data"
    },
    {
     "data": {
      "text/plain": [
       "array(0.0447581)"
      ]
     },
     "execution_count": 6,
     "metadata": {},
     "output_type": "execute_result"
    }
   ],
   "source": [
    "y,yp,err = ode_shooting(F,1e-13,13*1e5,0,0,n=500)\n",
    "t = np.linspace(1e-13,13,500)\n",
    "# yy = testfun(t)\n",
    "plt.plot(t,y,'r')\n",
    "plt.xlabel('km')\n",
    "plt.ylabel('Psi(r)')\n",
    "# plt.xlim(0,13)\n",
    "# plt.plot(t,yy,'c.')\n",
    "plt.show()\n",
    "f = interpolate.interp1d(t, y)\n",
    "f(10)"
   ]
  },
  {
   "cell_type": "code",
   "execution_count": 7,
   "metadata": {},
   "outputs": [
    {
     "data": {
      "text/plain": [
       "2.073889581536933e-21"
      ]
     },
     "execution_count": 7,
     "metadata": {},
     "output_type": "execute_result"
    }
   ],
   "source": [
    "# 4pi * gravitational constant* g^2/dyn/cm^4 = 8.387e-7 cm^-2\n",
    "3.479e-12 #cm^-2\n",
    "2e15*(0.27137183E+03-0.26789075E+03)*1.7827*10**12/((0.33932533E+02-0.32064907E+02)*1.6022*10**33) #g^2/dyn/cm^4\n",
    "\n",
    "#drho_dp in sec^2/cm^2\n",
    "(0.27137183E+03-0.26789075E+03)*1.7827*10**12/((0.33932533E+02-0.32064907E+02)*1.6022*10**33)"
   ]
  },
  {
   "cell_type": "code",
   "execution_count": null,
   "metadata": {},
   "outputs": [],
   "source": []
  },
  {
   "cell_type": "code",
   "execution_count": 273,
   "metadata": {},
   "outputs": [],
   "source": [
    "def NS_density(r):\n",
    "    df = np.genfromtxt('/Users/laote/sdsu/Research/GRR/mass_energy_density_profiles.dat'\\\n",
    "                   ,skip_header=7,skip_footer=1,names='rd,mr,ed,nd')\n",
    "    M = df['mr']*1.988e33 # to gram\n",
    "    R = df['rd']*100 # to cm\n",
    "    pos = np.argmin(np.abs(R-r))\n",
    "    m = M[pos]\n",
    "#     func = interpolate.interp1d(R,M)\n",
    "#     m = func(r)\n",
    "#     m = 1.5*1.988e33\n",
    "#     r = 14e5\n",
    "    rho = (3*m/(4*np.pi*r**3))\n",
    "    \n",
    "    return rho\n",
    "\n",
    "def int_term_2(r,M=1.4,R=12.53,l=2,period=7.465e-4,y=[0,0]): \n",
    "    # M in solar mass, r and R in unit km, period in unit sec\n",
    "#     t = np.linspace(1e-13,R,100)\n",
    "#     f = interpolate.interp1d(t, y)\n",
    "#     d_psi = f(r)\n",
    "    d_psi = 0\n",
    "    if period == 0:\n",
    "        Omega = np.sqrt(9.95e10*(M/R**3))\n",
    "    else:   \n",
    "        Omega = 2*np.pi/period\n",
    "    alpha = 1\n",
    "    drho_dp = 2.0739e-21 #sec^2/cm^2\n",
    "    drho_rho = alpha * (R)**2 * Omega**2 * drho_dp *\\\n",
    "               ( (2*l/(2*l+1) ) * np.sqrt(l/(l+1)) * (r/R)**(l+1) + d_psi)\n",
    "    density = NS_density(r)\n",
    "    temp = 1e9 # unit K\n",
    "    zeta = 6e-59 * ((l+1)/(2*Omega))**2 * density**2 * temp**6\n",
    "    \n",
    "    func = zeta * drho_rho**2 * r**2 * 2*np.pi\n",
    "    \n",
    "    return func\n",
    "\n",
    "def int_term_2_SH(theta,l=2): #spherical, theta goes from 0 to pi/2\n",
    "    if l == 2:\n",
    "        y = 2*np.pi* (-1/2)*np.sqrt(15/2/np.pi) * np.sin(theta)*np.cos(theta) \n",
    "    if l == 3:\n",
    "        y = 2*np.pi* (1/4)*np.sqrt(105/2/np.pi) * np.sin(theta)**2*np.cos(theta) \n",
    "    if l == 4:\n",
    "        y = 2*np.pi* (-3/8)*np.sqrt(35/np.pi) * np.sin(theta)**3*np.cos(theta) \n",
    "    if l == 5:\n",
    "        y = 2*np.pi* (3/16)*np.sqrt(385/2/np.pi) * np.sin(theta)**4*np.cos(theta) \n",
    "    if l == 6:\n",
    "        y = 2*np.pi* (-3/32)*np.sqrt(1001/2/np.pi) * np.sin(theta)**5*np.cos(theta)   \n",
    "    else:\n",
    "        y = 1\n",
    "    return y**2\n",
    "    \n",
    "\n",
    "def int_shear_term_2(r,M=1.4,R=12.53,l=2):\n",
    "    density = NS_density(r)\n",
    "    temp = 1e9 # unit K\n",
    "    shear = 347 * density**(9/4) * temp**(-2)\n",
    "    func = density * r**(2*l)\n",
    "    return func\n",
    "\n",
    "def int_term_3(r,M=1.4,R=12.53,l=2):\n",
    "    density = NS_density(r)\n",
    "    func = density * r**(2*l+2)\n",
    "    return func\n",
    "\n",
    "\n",
    "def shear_timescale(l,M,R): # mass(sun mass) radius (km)\n",
    "    R=R*1e5 #unit to cm\n",
    "    \n",
    "    int_lim = np.linspace(60,R,500)\n",
    "    term2,term3 = 0,0\n",
    "    for il in int_lim:\n",
    "        term2 += int_shear_term_2(il,M,R,l)*(R-60)/100\n",
    "        term3 += int_term_3(il,M,R,l)*(R-60)/100\n",
    "#     term2 = integrate.quad(int_shear_term_2, 60, R, args=(M,R,l))[0]\n",
    "#     term3 = integrate.quad(int_term_3, 60, R, args=(M,R,l))[0]\n",
    "    tzetam = (l-1)*(2*l+1) * term2 * (term3)**(-1)\n",
    "    return 1/tzetam\n",
    "    \n",
    "    \n",
    "def bulk_timescale(l,M,R,period): # mass(sun mass) radius (km)\n",
    "    R=R*1e5 #unit to cm\n",
    "    \n",
    "#     y,yp,err = ode_shooting(F,1e-13,R,0,0,n=100)\n",
    "    y=[0,0]\n",
    "    \n",
    "    int_lim = np.linspace(60,R,100)\n",
    "    term2,term2_SH,term3 = 0,0,0\n",
    "    for il in int_lim:\n",
    "        term2 += int_term_2(il,M,R,l,period,y)*(R-60)/100\n",
    "        term3 += int_term_3(il,M,R,l)*(R-60)/100\n",
    "    \n",
    "#     term2 = integrate.quad(int_term_2, 0.001, R, args=(M,R,l,period,y))[0]\n",
    "    term2_SH = integrate.quad(int_term_2_SH, 0, np.pi, args=(l))[0]\n",
    "#     term3 = integrate.quad(int_term_3, 0.001, R, args=(M,R,l))[0]\n",
    "    tzetam = 4*(R)**(2*l-2)/(l+1)**2 * term2 * np.abs(term2_SH) * (term3)**(-1)\n",
    "    return 1/tzetam"
   ]
  },
  {
   "cell_type": "code",
   "execution_count": 274,
   "metadata": {},
   "outputs": [],
   "source": [
    "def Omega_GRR(m,M,R,nu,period=0): # mass, radius, shear viscosity, period\n",
    "    col1 = omega_m(m,M,R)/m\n",
    "    col2 = alpha_m(m,M,R,period) \n",
    "    col_25 = tau_GR_m(m,M,R)/shear_timescale(m,R,nu) + tau_GR_m(m,M,R)/bulk_timescale(m,M,R,period)*epslion_m(m)\n",
    "    col3 = gamma_m(m,M,R,period) * (col_25)**(1/(2*m+1))\n",
    "    GRR = col1 * (col2 + col3)\n",
    "    return GRR\n",
    "\n",
    "def self_con_Omega_GRR(m,M,R,nu,period=0):\n",
    "    p = []\n",
    "    for i in range(30):\n",
    "        O = 2*np.pi/Omega_GRR(m,M,R,nu,period)\n",
    "        p.append(O)\n",
    "#     plt.figure(figsize=(10,5))\n",
    "#     plt.plot(p)\n",
    "#     plt.show()\n",
    "    final_p = 0.5*(p[-1]+p[-2])\n",
    "    return np.round(final_p,7) # in unit second"
   ]
  },
  {
   "cell_type": "code",
   "execution_count": 275,
   "metadata": {},
   "outputs": [
    {
     "name": "stdout",
     "output_type": "stream",
     "text": [
      "[2.13527747e+11 8.45273703e+10 4.65598070e+10 2.97254614e+10\n",
      " 2.06913051e+10]\n",
      "[1.94e+11 8.60e+10 4.90e+10 2.99e+10 1.78e+10]\n"
     ]
    },
    {
     "data": {
      "image/png": "[encoded data removed]",
      "text/plain": [
       "<Figure size 432x288 with 1 Axes>"
      ]
     },
     "metadata": {
      "needs_background": "light"
     },
     "output_type": "display_data"
    }
   ],
   "source": [
    "shearx = []\n",
    "for l in range(2,7):\n",
    "    shearx.append(shear_timescale(l,1.4,12.53))\n",
    "shearx = np.array(shearx)\n",
    "print(shearx)\n",
    "\n",
    "\n",
    "testy = np.array([2.52e8,1.44e8,1.07e8,8.79e7,7.58e7])*1e3-5.8e10\n",
    "print(testy)\n",
    "plt.plot([2,3,4,5,6],shearx,'r')\n",
    "plt.plot([2,3,4,5,6],testy,'c')\n",
    "plt.grid()\n",
    "# plt.xlim(3,6)"
   ]
  },
  {
   "cell_type": "code",
   "execution_count": 276,
   "metadata": {},
   "outputs": [
    {
     "data": {
      "text/plain": [
       "array([5.78220771e+08, 4.33097031e+08, 3.70290894e+08, 3.35698686e+08,\n",
       "       2.76934621e+08])"
      ]
     },
     "execution_count": 276,
     "metadata": {},
     "output_type": "execute_result"
    },
    {
     "data": {
      "image/png": "[encoded data removed]",
      "text/plain": [
       "<Figure size 432x288 with 1 Axes>"
      ]
     },
     "metadata": {
      "needs_background": "light"
     },
     "output_type": "display_data"
    }
   ],
   "source": [
    "testx = []\n",
    "for l in range(2,7):\n",
    "    testx.append(bulk_timescale(l,1.4,12.53,7.465e-4))\n",
    "testx = np.array(testx)/100*4.4\n",
    "\n",
    "testy = np.array([6.99e8,5.13e8,4.01e8,3.26e8,2.74e8])\n",
    "testx,testy\n",
    "\n",
    "\n",
    "plt.plot([2,3,4,5,6],testx,'r')\n",
    "plt.plot([2,3,4,5,6],testy,'c')\n",
    "\n",
    "testx"
   ]
  },
  {
   "cell_type": "code",
   "execution_count": 278,
   "metadata": {},
   "outputs": [],
   "source": [
    "# x = np.logspace(-7,1,30)\n",
    "# y = []\n",
    "\n",
    "# for xx in x:\n",
    "#     y.append(self_con_Omega_GRR(2,1.4,13,2,xx)*1000)\n",
    "    \n",
    "# plt.plot(x,y)\n",
    "# plt.ylabel('period(ms)')\n",
    "# plt.xscale('log')\n",
    "# plt.grid()\n",
    "# plt.show()\n",
    "\n",
    "\n",
    "# testx = []\n",
    "# for l in range(2,7):\n",
    "#     testx.append(bulk_timescale(l,1.4,12.53,7.465e-4))\n",
    "# testx = np.array(testx)\n",
    "\n",
    "# testy = np.array([6.99e8,5.13e8,4.01e8,3.26e8,2.74e8])\n",
    "# testx,testy"
   ]
  },
  {
   "cell_type": "code",
   "execution_count": null,
   "metadata": {},
   "outputs": [],
   "source": [
    "sv = np.array([200,1,0.1,0.01,0.001])\n",
    "# y = self_con_Omega_GRR(3,1.3,11,0.01,0)*1000\n",
    "# print(y)\n",
    "\n",
    "mass = 1.5\n",
    "radius = 13.8\n",
    "plt.figure(figsize=(10,5))\n",
    "for m in range(2,6):\n",
    "    y = []\n",
    "    for x in sv:\n",
    "        y.append(self_con_Omega_GRR(m,mass,radius,x,1)*1000)\n",
    "        plt.annotate(x,(y[-1],m))\n",
    "    plt.plot(y,[m,m,m,m,m],'o-')\n",
    "plt.xlabel('Period (ms)')\n",
    "plt.ylabel('m')\n",
    "# plt.xlim(1,1.5)\n",
    "plt.show()\n",
    "\n",
    "# plt.figure(figsize=(10,5))\n",
    "# for m in range(2,6):\n",
    "#     y = []\n",
    "#     for x in sv:\n",
    "#         y.append(2*np.pi/Omega_GRR(m,mass,radius,x,1)*1000)\n",
    "#         plt.annotate(x,(y[-1],m))\n",
    "#     plt.plot(y,[m,m,m,m,m],'o-')\n",
    "# plt.xlabel('Period (ms)')\n",
    "# plt.ylabel('m')\n",
    "# plt.xlim(1,1.5)\n",
    "# plt.show()"
   ]
  },
  {
   "cell_type": "code",
   "execution_count": 280,
   "metadata": {},
   "outputs": [],
   "source": [
    "basedir = \"/Users/laote/sdsu/Research/rotation\"\n",
    "twindir = basedir + \"/EOS_twin\""
   ]
  },
  {
   "cell_type": "code",
   "execution_count": null,
   "metadata": {},
   "outputs": [],
   "source": [
    "i = 3\n",
    "datadir = twindir + \"/%s.dat\" %(i)\n",
    "dataHT2 = np.genfromtxt(datadir,skip_header=649, skip_footer=1028-710,\\\n",
    "                        names='number,e_c,e_c_e_0,M_gr,M_by,M_pr,R_km,lg_A_rot,lg_I_g_cm2')\n",
    "NSdir = twindir + \"/outputHT.dat__HVfull\"\n",
    "NSHT2 = np.genfromtxt(NSdir,skip_header=753, skip_footer=1196-822,\\\n",
    "                         names='number,e_c,e_c_e_0,M_gr,M_by,M_pr,R_km,lg_A_rot,lg_I_g_cm2')\n",
    "# NSdir = twindir + \"/brockB+HFV.dat\"\n",
    "# NSHT2 = np.genfromtxt(NSdir,skip_header=649, skip_footer=1028-710,\\\n",
    "#                         names='number,e_c,e_c_e_0,M_gr,M_by,M_pr,R_km,lg_A_rot,lg_I_g_cm2')\n",
    "\n",
    "\n",
    "M_gr = dataHT2['M_gr']\n",
    "R = dataHT2['R_km']\n",
    "\n",
    "NSM_gr = NSHT2['M_gr']\n",
    "NSR = NSHT2['R_km']\n",
    "\n",
    "\n",
    "plt.figure(figsize=(15,5))\n",
    "plt.suptitle('m = 3, EoS = Multipoly_ACB4_GrigorConstr_k1_DeltaP=3')\n",
    "plt.subplot(131)\n",
    "for bb in sv:\n",
    "    period = []\n",
    "    for i in range(len(M_gr)):\n",
    "        period.append(self_con_Omega_GRR(3,M_gr[i],R[i],bb,1)*1000)\n",
    "    plt.plot(M_gr,period,'o-',label = 'v = %s' %bb)\n",
    "plt.ylabel('Period (ms)')\n",
    "plt.xlabel('mass')\n",
    "plt.grid()\n",
    "plt.legend()\n",
    "\n",
    "plt.subplot(132)\n",
    "for bb in sv:\n",
    "    period = []\n",
    "    for i in range(len(M_gr)):\n",
    "        period.append(self_con_Omega_GRR(3,M_gr[i],R[i],bb,1)*1000)\n",
    "    plt.plot(R,period,'o-',label = 'v = %s' %bb)\n",
    "plt.ylabel('Period (ms)')\n",
    "plt.xlabel('radius')\n",
    "plt.grid()\n",
    "plt.legend()\n",
    "\n",
    "plt.subplot(133)\n",
    "for bb in sv:\n",
    "    plt.plot(R,M_gr,'o-',label = 'v = %s' %bb)\n",
    "plt.ylabel('mass')\n",
    "plt.xlabel('radius')\n",
    "plt.grid()\n",
    "plt.legend()\n",
    "\n",
    "plt.show()\n",
    "\n",
    "plt.figure(figsize=(15,5))\n",
    "plt.suptitle('m = 3, EoS = brockB+HFV')\n",
    "plt.subplot(131)\n",
    "for bb in sv:\n",
    "    period = []\n",
    "    for i in range(len(NSM_gr)):\n",
    "        period.append(self_con_Omega_GRR(3,NSM_gr[i],NSR[i],bb,1)*1000)\n",
    "    plt.plot(NSM_gr,period,'o-',label = 'v = %s' %bb)\n",
    "plt.ylabel('Period (ms)')\n",
    "plt.xlabel('mass')\n",
    "plt.grid()\n",
    "plt.legend()\n",
    "\n",
    "plt.subplot(132)\n",
    "for bb in sv:\n",
    "    period = []\n",
    "    for i in range(len(NSM_gr)):\n",
    "        period.append(self_con_Omega_GRR(3,NSM_gr[i],NSR[i],bb,1)*1000)\n",
    "    plt.plot(NSR,period,'o-',label = 'v = %s' %bb)\n",
    "plt.ylabel('Period (ms)')\n",
    "plt.xlabel('radius')\n",
    "plt.grid()\n",
    "plt.legend()\n",
    "\n",
    "plt.subplot(133)\n",
    "for bb in sv:\n",
    "    plt.plot(NSR,NSM_gr,'o-',label = 'v = %s' %bb)\n",
    "plt.ylabel('mass')\n",
    "plt.xlabel('radius')\n",
    "plt.grid()\n",
    "plt.legend()\n",
    "\n",
    "plt.show()"
   ]
  },
  {
   "cell_type": "code",
   "execution_count": null,
   "metadata": {},
   "outputs": [],
   "source": []
  },
  {
   "cell_type": "code",
   "execution_count": null,
   "metadata": {},
   "outputs": [],
   "source": []
  },
  {
   "cell_type": "code",
   "execution_count": null,
   "metadata": {},
   "outputs": [],
   "source": []
  },
  {
   "cell_type": "code",
   "execution_count": null,
   "metadata": {},
   "outputs": [],
   "source": []
  }
 ],
 "metadata": {
  "kernelspec": {
   "display_name": "Python 3",
   "language": "python",
   "name": "python3"
  }
 },
 "nbformat": 4,
 "nbformat_minor": 2
}
